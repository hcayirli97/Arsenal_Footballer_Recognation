{
 "cells": [
  {
   "cell_type": "code",
   "execution_count": 1,
   "id": "fbd21dfa-ec88-49c5-a22d-09112a170a1e",
   "metadata": {},
   "outputs": [],
   "source": [
    "import os, shutil, random"
   ]
  },
  {
   "cell_type": "code",
   "execution_count": 2,
   "id": "7ed9ea23-1c96-4ca0-9f44-644dc2710784",
   "metadata": {},
   "outputs": [],
   "source": [
    "if not os.path.isdir(\"faces/train\"):\n",
    "    os.makedirs(\"faces/train\")\n",
    "if not os.path.isdir(\"faces/val\"):\n",
    "    os.makedirs(\"faces/val\")"
   ]
  },
  {
   "cell_type": "code",
   "execution_count": 3,
   "id": "764a8bc8-13dc-4ea4-b201-37e564a26e13",
   "metadata": {},
   "outputs": [],
   "source": [
    "main_data_path = \"images/\"\n",
    "players = os.listdir(main_data_path)"
   ]
  },
  {
   "cell_type": "code",
   "execution_count": 4,
   "id": "09db1cf6-d9f6-4dda-b79f-41633636f2f0",
   "metadata": {},
   "outputs": [],
   "source": [
    "def split_imgs(path,index):\n",
    "    dir = os.listdir(path)\n",
    "    random.shuffle(dir)\n",
    "    train_thres = int(len(dir)*0.75)\n",
    "    for j, file in enumerate(dir):\n",
    "        \n",
    "        if j < train_thres:\n",
    "            if not os.path.isdir(\"faces/train/\"+str(index)):\n",
    "                os.makedirs(\"faces/train/\"+str(index))\n",
    "            shutil.copy(path+\"/\"+file,\"faces/train/\" + str(index)+\"/\"+file)\n",
    "        elif train_thres <= j :\n",
    "            if not os.path.isdir(\"faces/val/\"+str(index)):\n",
    "                os.makedirs(\"faces/val/\"+str(index))\n",
    "            shutil.copy(path+\"/\"+file,\"faces/val/\" + str(index)+\"/\"+file)\n",
    "    return (index +1)\n",
    "    "
   ]
  },
  {
   "cell_type": "code",
   "execution_count": 5,
   "id": "d3fc1da2-8006-4f7d-a9cc-44ebca6238a4",
   "metadata": {},
   "outputs": [],
   "source": [
    "stack = []\n",
    "ind = 0\n",
    "for i,player_path in enumerate(players):\n",
    "    \n",
    "    stack.append([ind , player_path])\n",
    "    ind = split_imgs(main_data_path+player_path,ind)\n",
    "        "
   ]
  },
  {
   "cell_type": "code",
   "execution_count": 6,
   "id": "ca4b0d24-f730-4dff-a010-0140a0319d92",
   "metadata": {},
   "outputs": [],
   "source": [
    "f = open(\"names.txt\",\"w\",encoding=\"utf-8\")\n",
    "for index , item in stack:\n",
    "    f.write(str(index) +\" \"+item+\"\\n\",)\n",
    "f.close()"
   ]
  }
 ],
 "metadata": {
  "kernelspec": {
   "display_name": "Python 3.9.12 ('tf2')",
   "language": "python",
   "name": "python3"
  },
  "language_info": {
   "codemirror_mode": {
    "name": "ipython",
    "version": 3
   },
   "file_extension": ".py",
   "mimetype": "text/x-python",
   "name": "python",
   "nbconvert_exporter": "python",
   "pygments_lexer": "ipython3",
   "version": "3.9.12"
  },
  "vscode": {
   "interpreter": {
    "hash": "53aa994317fb73350f20ead38f4115f13eb3efaf271fbf11c39e4e4b587a7486"
   }
  }
 },
 "nbformat": 4,
 "nbformat_minor": 5
}
