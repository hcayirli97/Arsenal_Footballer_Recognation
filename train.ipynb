{
  "cells": [
    {
      "cell_type": "code",
      "execution_count": null,
      "metadata": {
        "id": "6HnCtiqV1gBH"
      },
      "outputs": [],
      "source": [
        "import tensorflow as tf\n",
        "import os\n",
        "from tensorflow.keras.layers import Dense, Conv2D, MaxPool2D , Flatten,GlobalAveragePooling2D, Dropout\n",
        "from tensorflow.keras.preprocessing.image import ImageDataGenerator\n",
        "from tensorflow.keras.models import Sequential\n",
        "import scipy\n",
        "from tensorboard.plugins.hparams import api as hp\n",
        "from tensorflow.keras.models import Model\n",
        "from tensorflow.keras.callbacks import ModelCheckpoint, EarlyStopping"
      ]
    },
    {
      "cell_type": "code",
      "execution_count": null,
      "metadata": {
        "colab": {
          "base_uri": "https://localhost:8080/"
        },
        "id": "PPMvT9tk1tb4",
        "outputId": "65fe7129-64b9-4b2f-cace-b2b0cff1212a"
      },
      "outputs": [
        {
          "name": "stdout",
          "output_type": "stream",
          "text": [
            "Num GPUs Available:  2\n"
          ]
        },
        {
          "data": {
            "text/plain": [
              "[PhysicalDevice(name='/physical_device:CPU:0', device_type='CPU'),\n",
              " PhysicalDevice(name='/physical_device:GPU:0', device_type='GPU')]"
            ]
          },
          "execution_count": 3,
          "metadata": {},
          "output_type": "execute_result"
        }
      ],
      "source": [
        "os.environ[\"CUDA_VISIBLE_DEVICES\"]=\"0\"\n",
        "print(\"Num GPUs Available: \", len(tf.config.list_physical_devices()))\n",
        "tf.config.list_physical_devices()"
      ]
    },
    {
      "cell_type": "code",
      "execution_count": null,
      "metadata": {
        "id": "VJQP82Fh1w2Q"
      },
      "outputs": [],
      "source": [
        "src_path_train = \"/content/drive/MyDrive/faces/train\"\n",
        "src_path_val = \"/content/drive/MyDrive/faces/val\"\n",
        "\n",
        "num_classes = len(os.listdir(\"/content/drive/MyDrive/faces/train\"))\n",
        "\n",
        "train_datagen = ImageDataGenerator(rescale=1.0 / 255.0)\n",
        "val_datagen = ImageDataGenerator(rescale=1.0 / 255.0)"
      ]
    },
    {
      "cell_type": "code",
      "execution_count": null,
      "metadata": {
        "colab": {
          "base_uri": "https://localhost:8080/"
        },
        "id": "AKM8G1AI2q06",
        "outputId": "2c4f226a-e336-4c56-938d-1431f1c0103f"
      },
      "outputs": [
        {
          "name": "stdout",
          "output_type": "stream",
          "text": [
            "Found 1428 images belonging to 46 classes.\n",
            "Found 502 images belonging to 46 classes.\n"
          ]
        }
      ],
      "source": [
        "train_generator = train_datagen.flow_from_directory(\n",
        "    directory=src_path_train,\n",
        "    target_size=(224,224),\n",
        "    color_mode=\"rgb\",\n",
        "    class_mode=\"sparse\",\n",
        "    subset='training',\n",
        "    shuffle=True,\n",
        "    seed=42,\n",
        "    batch_size=4)\n",
        "\n",
        "valid_generator = val_datagen.flow_from_directory(\n",
        "    directory=src_path_val,\n",
        "    target_size=(224,224),\n",
        "    color_mode=\"rgb\",\n",
        "    batch_size=2,\n",
        "    class_mode=\"sparse\",\n",
        "    shuffle=True,\n",
        "    seed=42\n",
        ")\n"
      ]
    },
    {
      "cell_type": "code",
      "execution_count": null,
      "metadata": {
        "id": "u6JAfnd02wSF"
      },
      "outputs": [],
      "source": [
        "HP_DROPOUT = hp.HParam('dropout', hp.Discrete([0.1]))\n",
        "HP_OPTIMIZER = hp.HParam('optimizer', hp.Discrete(['sgd']))\n",
        "HP_LEARNING_RATE= hp.HParam('learning_rate', hp.Discrete([0.0001]))\n",
        "METRIC_ACCURACY = 'accuracy'\n",
        "with tf.summary.create_file_writer('logs/hparam_tuning').as_default():\n",
        "  hp.hparams_config(\n",
        "    hparams=[HP_LEARNING_RATE,HP_DROPOUT, HP_OPTIMIZER],\n",
        "    metrics=[hp.Metric(METRIC_ACCURACY, display_name='Accuracy')],\n",
        "  )"
      ]
    },
    {
      "cell_type": "code",
      "execution_count": null,
      "metadata": {
        "id": "VHKZQZLU2yCv"
      },
      "outputs": [],
      "source": [
        "\n",
        "def train_test_model(hparams,model_name):\n",
        "    base_model = tf.keras.applications.ResNet50(\n",
        "    input_shape=(224, 224, 3),\n",
        "    include_top=False,\n",
        "    weights=\"imagenet\")\n",
        "    \n",
        "    x = base_model.output\n",
        "    x = Flatten()(x)\n",
        "    x = Dense(1024, activation='relu')(x)\n",
        "    x = Dropout(hparams[HP_DROPOUT])(x)\n",
        "    predictions = Dense(num_classes, activation='softmax')(x)\n",
        "\n",
        "    model = Model(inputs=base_model.input, outputs=predictions)\n",
        "    model.compile(\n",
        "        optimizer=hparams[HP_OPTIMIZER],\n",
        "        loss='sparse_categorical_crossentropy',\n",
        "        metrics=['accuracy'],\n",
        "    )\n",
        "    checkpoint = ModelCheckpoint(\"models/\"+model_name+\"_best.h5\", monitor='val_accuracy',verbose=2, save_best_only=True, mode='max')\n",
        "    early = EarlyStopping(monitor='val_loss', min_delta=0, patience=25, verbose=1, mode='min')\n",
        "    model.fit(train_generator, validation_data= valid_generator,epochs=40,callbacks=[checkpoint,early,tf.keras.callbacks.TensorBoard(\"logs/\"),  # log metrics\n",
        "        hp.KerasCallback(\"logs/\", hparams)],verbose = 1)"
      ]
    },
    {
      "cell_type": "code",
      "execution_count": null,
      "metadata": {
        "id": "vmDAhpuI2z-P"
      },
      "outputs": [],
      "source": [
        "def run(run_dir, hparams):\n",
        "  with tf.summary.create_file_writer(run_dir).as_default():\n",
        "    hp.hparams(hparams)\n",
        "    \n",
        "    model_name = run_dir.split(\"/\")[-1]\n",
        "    print(\"model name: \"+ model_name)\n",
        "    train_test_model(hparams, model_name)\n"
      ]
    },
    {
      "cell_type": "code",
      "execution_count": null,
      "metadata": {
        "colab": {
          "base_uri": "https://localhost:8080/"
        },
        "id": "73JwrWLH21Wn",
        "outputId": "01c367d6-d2a0-4f1d-c007-c1367edff760"
      },
      "outputs": [
        {
          "name": "stdout",
          "output_type": "stream",
          "text": [
            "--- Starting trial: run_0\n",
            "{'learning_rate': 0.0001, 'dropout': 0.1, 'optimizer': 'sgd'}\n",
            "model name: run_0\n",
            "Epoch 1/40\n",
            "357/357 [==============================] - ETA: 0s - loss: 249.8736 - accuracy: 0.1036\n",
            "Epoch 1: val_accuracy improved from -inf to 0.01394, saving model to /content/drive/MyDrive/faces/run_0_best.h5\n",
            "357/357 [==============================] - 46s 119ms/step - loss: 249.8736 - accuracy: 0.1036 - val_loss: 134.6288 - val_accuracy: 0.0139\n",
            "Epoch 2/40\n",
            "357/357 [==============================] - ETA: 0s - loss: 54.5423 - accuracy: 0.2983\n",
            "Epoch 2: val_accuracy improved from 0.01394 to 0.03187, saving model to /content/drive/MyDrive/faces/run_0_best.h5\n",
            "357/357 [==============================] - 45s 125ms/step - loss: 54.5423 - accuracy: 0.2983 - val_loss: 16.1470 - val_accuracy: 0.0319\n",
            "Epoch 3/40\n",
            "357/357 [==============================] - ETA: 0s - loss: 8.8421 - accuracy: 0.4972\n",
            "Epoch 3: val_accuracy improved from 0.03187 to 0.27689, saving model to /content/drive/MyDrive/faces/run_0_best.h5\n",
            "357/357 [==============================] - 45s 124ms/step - loss: 8.8421 - accuracy: 0.4972 - val_loss: 8.4309 - val_accuracy: 0.2769\n",
            "Epoch 4/40\n",
            "357/357 [==============================] - ETA: 0s - loss: 6.4023 - accuracy: 0.6681\n",
            "Epoch 4: val_accuracy improved from 0.27689 to 0.37251, saving model to /content/drive/MyDrive/faces/run_0_best.h5\n",
            "357/357 [==============================] - 52s 145ms/step - loss: 6.4023 - accuracy: 0.6681 - val_loss: 7.8569 - val_accuracy: 0.3725\n",
            "Epoch 5/40\n",
            "357/357 [==============================] - ETA: 0s - loss: 5.3443 - accuracy: 0.7612\n",
            "Epoch 5: val_accuracy improved from 0.37251 to 0.50797, saving model to /content/drive/MyDrive/faces/run_0_best.h5\n",
            "357/357 [==============================] - 44s 122ms/step - loss: 5.3443 - accuracy: 0.7612 - val_loss: 6.4822 - val_accuracy: 0.5080\n",
            "Epoch 6/40\n",
            "357/357 [==============================] - ETA: 0s - loss: 4.2639 - accuracy: 0.8634\n",
            "Epoch 6: val_accuracy improved from 0.50797 to 0.55976, saving model to /content/drive/MyDrive/faces/run_0_best.h5\n",
            "357/357 [==============================] - 44s 123ms/step - loss: 4.2639 - accuracy: 0.8634 - val_loss: 5.7164 - val_accuracy: 0.5598\n",
            "Epoch 7/40\n",
            "357/357 [==============================] - ETA: 0s - loss: 3.7128 - accuracy: 0.8831\n",
            "Epoch 7: val_accuracy did not improve from 0.55976\n",
            "357/357 [==============================] - 40s 110ms/step - loss: 3.7128 - accuracy: 0.8831 - val_loss: 5.5151 - val_accuracy: 0.5319\n",
            "Epoch 8/40\n",
            "357/357 [==============================] - ETA: 0s - loss: 3.1104 - accuracy: 0.9104\n",
            "Epoch 8: val_accuracy did not improve from 0.55976\n",
            "357/357 [==============================] - 39s 110ms/step - loss: 3.1104 - accuracy: 0.9104 - val_loss: 5.5424 - val_accuracy: 0.4761\n",
            "Epoch 9/40\n",
            "357/357 [==============================] - ETA: 0s - loss: 2.7880 - accuracy: 0.9370\n",
            "Epoch 9: val_accuracy improved from 0.55976 to 0.59960, saving model to /content/drive/MyDrive/faces/run_0_best.h5\n",
            "357/357 [==============================] - 43s 122ms/step - loss: 2.7880 - accuracy: 0.9370 - val_loss: 4.0953 - val_accuracy: 0.5996\n",
            "Epoch 10/40\n",
            "357/357 [==============================] - ETA: 0s - loss: 2.3225 - accuracy: 0.9545\n",
            "Epoch 10: val_accuracy improved from 0.59960 to 0.62151, saving model to /content/drive/MyDrive/faces/run_0_best.h5\n",
            "357/357 [==============================] - 44s 123ms/step - loss: 2.3225 - accuracy: 0.9545 - val_loss: 3.6667 - val_accuracy: 0.6215\n",
            "Epoch 11/40\n",
            "357/357 [==============================] - ETA: 0s - loss: 2.1650 - accuracy: 0.9538\n",
            "Epoch 11: val_accuracy improved from 0.62151 to 0.64143, saving model to /content/drive/MyDrive/faces/run_0_best.h5\n",
            "357/357 [==============================] - 44s 123ms/step - loss: 2.1650 - accuracy: 0.9538 - val_loss: 3.3263 - val_accuracy: 0.6414\n",
            "Epoch 12/40\n",
            "357/357 [==============================] - ETA: 0s - loss: 1.9537 - accuracy: 0.9678\n",
            "Epoch 12: val_accuracy did not improve from 0.64143\n",
            "357/357 [==============================] - 39s 110ms/step - loss: 1.9537 - accuracy: 0.9678 - val_loss: 3.3170 - val_accuracy: 0.6215\n",
            "Epoch 13/40\n",
            "357/357 [==============================] - ETA: 0s - loss: 1.6607 - accuracy: 0.9755\n",
            "Epoch 13: val_accuracy did not improve from 0.64143\n",
            "357/357 [==============================] - 39s 110ms/step - loss: 1.6607 - accuracy: 0.9755 - val_loss: 3.7656 - val_accuracy: 0.5618\n",
            "Epoch 14/40\n",
            "357/357 [==============================] - ETA: 0s - loss: 1.5728 - accuracy: 0.9797\n",
            "Epoch 14: val_accuracy did not improve from 0.64143\n",
            "357/357 [==============================] - 39s 109ms/step - loss: 1.5728 - accuracy: 0.9797 - val_loss: 3.5934 - val_accuracy: 0.5498\n",
            "Epoch 15/40\n",
            "357/357 [==============================] - ETA: 0s - loss: 1.7761 - accuracy: 0.9629\n",
            "Epoch 15: val_accuracy did not improve from 0.64143\n",
            "357/357 [==============================] - 39s 110ms/step - loss: 1.7761 - accuracy: 0.9629 - val_loss: 3.4834 - val_accuracy: 0.5956\n",
            "Epoch 16/40\n",
            "357/357 [==============================] - ETA: 0s - loss: 1.9006 - accuracy: 0.9587\n",
            "Epoch 16: val_accuracy did not improve from 0.64143\n",
            "357/357 [==============================] - 39s 110ms/step - loss: 1.9006 - accuracy: 0.9587 - val_loss: 3.3895 - val_accuracy: 0.6076\n",
            "Epoch 17/40\n",
            "357/357 [==============================] - ETA: 0s - loss: 1.4614 - accuracy: 0.9867\n",
            "Epoch 17: val_accuracy did not improve from 0.64143\n",
            "357/357 [==============================] - 39s 109ms/step - loss: 1.4614 - accuracy: 0.9867 - val_loss: 2.8203 - val_accuracy: 0.6414\n",
            "Epoch 18/40\n",
            "357/357 [==============================] - ETA: 0s - loss: 1.2422 - accuracy: 0.9846\n",
            "Epoch 18: val_accuracy improved from 0.64143 to 0.64940, saving model to /content/drive/MyDrive/faces/run_0_best.h5\n",
            "357/357 [==============================] - 44s 122ms/step - loss: 1.2422 - accuracy: 0.9846 - val_loss: 2.5531 - val_accuracy: 0.6494\n",
            "Epoch 19/40\n",
            "357/357 [==============================] - ETA: 0s - loss: 0.9970 - accuracy: 0.9916\n",
            "Epoch 19: val_accuracy did not improve from 0.64940\n",
            "357/357 [==============================] - 39s 110ms/step - loss: 0.9970 - accuracy: 0.9916 - val_loss: 2.9866 - val_accuracy: 0.6494\n",
            "Epoch 20/40\n",
            "357/357 [==============================] - ETA: 0s - loss: 1.3943 - accuracy: 0.9769\n",
            "Epoch 20: val_accuracy did not improve from 0.64940\n",
            "357/357 [==============================] - 39s 109ms/step - loss: 1.3943 - accuracy: 0.9769 - val_loss: 2.9781 - val_accuracy: 0.6295\n",
            "Epoch 21/40\n",
            "357/357 [==============================] - ETA: 0s - loss: 1.4299 - accuracy: 0.9776\n",
            "Epoch 21: val_accuracy did not improve from 0.64940\n",
            "357/357 [==============================] - 39s 110ms/step - loss: 1.4299 - accuracy: 0.9776 - val_loss: 2.8946 - val_accuracy: 0.6215\n",
            "Epoch 22/40\n",
            "357/357 [==============================] - ETA: 0s - loss: 1.2260 - accuracy: 0.9881\n",
            "Epoch 22: val_accuracy did not improve from 0.64940\n",
            "357/357 [==============================] - 39s 110ms/step - loss: 1.2260 - accuracy: 0.9881 - val_loss: 2.8547 - val_accuracy: 0.6116\n",
            "Epoch 23/40\n",
            "357/357 [==============================] - ETA: 0s - loss: 1.2195 - accuracy: 0.9888\n",
            "Epoch 23: val_accuracy improved from 0.64940 to 0.69920, saving model to /content/drive/MyDrive/faces/run_0_best.h5\n",
            "357/357 [==============================] - 44s 123ms/step - loss: 1.2195 - accuracy: 0.9888 - val_loss: 2.1672 - val_accuracy: 0.6992\n",
            "Epoch 24/40\n",
            "357/357 [==============================] - ETA: 0s - loss: 0.8396 - accuracy: 0.9972\n",
            "Epoch 24: val_accuracy did not improve from 0.69920\n",
            "357/357 [==============================] - 40s 110ms/step - loss: 0.8396 - accuracy: 0.9972 - val_loss: 1.9219 - val_accuracy: 0.6892\n",
            "Epoch 25/40\n",
            "357/357 [==============================] - ETA: 0s - loss: 0.9685 - accuracy: 0.9916\n",
            "Epoch 25: val_accuracy did not improve from 0.69920\n",
            "357/357 [==============================] - 39s 110ms/step - loss: 0.9685 - accuracy: 0.9916 - val_loss: 1.9958 - val_accuracy: 0.6813\n",
            "Epoch 26/40\n",
            "357/357 [==============================] - ETA: 0s - loss: 0.9451 - accuracy: 0.9916\n",
            "Epoch 26: val_accuracy did not improve from 0.69920\n",
            "357/357 [==============================] - 39s 111ms/step - loss: 0.9451 - accuracy: 0.9916 - val_loss: 2.6235 - val_accuracy: 0.6394\n",
            "Epoch 27/40\n",
            "357/357 [==============================] - ETA: 0s - loss: 1.6927 - accuracy: 0.9566\n",
            "Epoch 27: val_accuracy did not improve from 0.69920\n",
            "357/357 [==============================] - 39s 110ms/step - loss: 1.6927 - accuracy: 0.9566 - val_loss: 3.1718 - val_accuracy: 0.6116\n",
            "Epoch 28/40\n",
            "357/357 [==============================] - ETA: 0s - loss: 1.5762 - accuracy: 0.9636\n",
            "Epoch 28: val_accuracy did not improve from 0.69920\n",
            "357/357 [==============================] - 40s 111ms/step - loss: 1.5762 - accuracy: 0.9636 - val_loss: 2.6967 - val_accuracy: 0.6275\n",
            "Epoch 29/40\n",
            "357/357 [==============================] - ETA: 0s - loss: 1.1830 - accuracy: 0.9853\n",
            "Epoch 29: val_accuracy did not improve from 0.69920\n",
            "357/357 [==============================] - 39s 110ms/step - loss: 1.1830 - accuracy: 0.9853 - val_loss: 3.0315 - val_accuracy: 0.5936\n",
            "Epoch 30/40\n",
            "357/357 [==============================] - ETA: 0s - loss: 1.1445 - accuracy: 0.9895\n",
            "Epoch 30: val_accuracy did not improve from 0.69920\n",
            "357/357 [==============================] - 39s 110ms/step - loss: 1.1445 - accuracy: 0.9895 - val_loss: 2.1160 - val_accuracy: 0.6952\n",
            "Epoch 31/40\n",
            "357/357 [==============================] - ETA: 0s - loss: 0.8261 - accuracy: 0.9972\n",
            "Epoch 31: val_accuracy did not improve from 0.69920\n",
            "357/357 [==============================] - 40s 111ms/step - loss: 0.8261 - accuracy: 0.9972 - val_loss: 1.9757 - val_accuracy: 0.6972\n",
            "Epoch 32/40\n",
            "357/357 [==============================] - ETA: 0s - loss: 0.7737 - accuracy: 0.9972\n",
            "Epoch 32: val_accuracy improved from 0.69920 to 0.72510, saving model to /content/drive/MyDrive/faces/run_0_best.h5\n",
            "357/357 [==============================] - 44s 124ms/step - loss: 0.7737 - accuracy: 0.9972 - val_loss: 1.8135 - val_accuracy: 0.7251\n",
            "Epoch 33/40\n",
            "357/357 [==============================] - ETA: 0s - loss: 0.9855 - accuracy: 0.9769\n",
            "Epoch 33: val_accuracy did not improve from 0.72510\n",
            "357/357 [==============================] - 40s 111ms/step - loss: 0.9855 - accuracy: 0.9769 - val_loss: 4.1052 - val_accuracy: 0.5219\n",
            "Epoch 34/40\n",
            "357/357 [==============================] - ETA: 0s - loss: 1.8544 - accuracy: 0.9524\n",
            "Epoch 34: val_accuracy did not improve from 0.72510\n",
            "357/357 [==============================] - 39s 111ms/step - loss: 1.8544 - accuracy: 0.9524 - val_loss: 4.0834 - val_accuracy: 0.5558\n",
            "Epoch 35/40\n",
            "357/357 [==============================] - ETA: 0s - loss: 1.5677 - accuracy: 0.9727\n",
            "Epoch 35: val_accuracy did not improve from 0.72510\n",
            "357/357 [==============================] - 39s 110ms/step - loss: 1.5677 - accuracy: 0.9727 - val_loss: 2.7236 - val_accuracy: 0.6653\n",
            "Epoch 36/40\n",
            "357/357 [==============================] - ETA: 0s - loss: 1.1362 - accuracy: 0.9881\n",
            "Epoch 36: val_accuracy did not improve from 0.72510\n",
            "357/357 [==============================] - 39s 110ms/step - loss: 1.1362 - accuracy: 0.9881 - val_loss: 3.1121 - val_accuracy: 0.6255\n",
            "Epoch 37/40\n",
            "357/357 [==============================] - ETA: 0s - loss: 1.5056 - accuracy: 0.9629\n",
            "Epoch 37: val_accuracy did not improve from 0.72510\n",
            "357/357 [==============================] - 40s 112ms/step - loss: 1.5056 - accuracy: 0.9629 - val_loss: 3.8471 - val_accuracy: 0.5996\n",
            "Epoch 38/40\n",
            "357/357 [==============================] - ETA: 0s - loss: 1.2302 - accuracy: 0.9902\n",
            "Epoch 38: val_accuracy did not improve from 0.72510\n",
            "357/357 [==============================] - 39s 110ms/step - loss: 1.2302 - accuracy: 0.9902 - val_loss: 3.7450 - val_accuracy: 0.5916\n",
            "Epoch 39/40\n",
            "357/357 [==============================] - ETA: 0s - loss: 1.4366 - accuracy: 0.9671\n",
            "Epoch 39: val_accuracy did not improve from 0.72510\n",
            "357/357 [==============================] - 39s 110ms/step - loss: 1.4366 - accuracy: 0.9671 - val_loss: 3.3122 - val_accuracy: 0.5876\n",
            "Epoch 40/40\n",
            "357/357 [==============================] - ETA: 0s - loss: 1.1032 - accuracy: 0.9895\n",
            "Epoch 40: val_accuracy did not improve from 0.72510\n",
            "357/357 [==============================] - 39s 110ms/step - loss: 1.1032 - accuracy: 0.9895 - val_loss: 2.6456 - val_accuracy: 0.6534\n"
          ]
        }
      ],
      "source": [
        "session_num = 0\n",
        "\n",
        "for lr in HP_LEARNING_RATE.domain.values:\n",
        "  for dropout_rate in (HP_DROPOUT.domain.values):\n",
        "    for optimizer in HP_OPTIMIZER.domain.values:\n",
        "      hparams = {\n",
        "          HP_LEARNING_RATE: lr,\n",
        "          HP_DROPOUT: dropout_rate,\n",
        "          HP_OPTIMIZER: optimizer,\n",
        "      }\n",
        "      run_name = \"run_%d\" % session_num\n",
        "      print('--- Starting trial: %s' % run_name)\n",
        "      print({h.name: hparams[h] for h in hparams})\n",
        "      run('logs/hparam_tuning/' + run_name, hparams)\n",
        "      session_num += 1"
      ]
    },
    {
      "cell_type": "code",
      "execution_count": null,
      "metadata": {
        "id": "U11DCKaew-Oy"
      },
      "outputs": [],
      "source": []
    }
  ],
  "metadata": {
    "accelerator": "GPU",
    "colab": {
      "collapsed_sections": [],
      "provenance": []
    },
    "kernelspec": {
      "display_name": "Python 3.9.12 ('tf2')",
      "language": "python",
      "name": "python3"
    },
    "language_info": {
      "name": "python",
      "version": "3.9.12"
    },
    "vscode": {
      "interpreter": {
        "hash": "53aa994317fb73350f20ead38f4115f13eb3efaf271fbf11c39e4e4b587a7486"
      }
    }
  },
  "nbformat": 4,
  "nbformat_minor": 0
}
